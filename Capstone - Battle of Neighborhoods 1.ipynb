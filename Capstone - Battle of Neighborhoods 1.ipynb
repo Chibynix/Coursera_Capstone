{
    "cells": [
        {
            "cell_type": "markdown",
            "metadata": {
                "collapsed": true
            },
            "source": "   #                                 Capstone - Battle of Neighborhoods (Week 1)\n   \n   ##                           Exploring New York Neighborhoods - for the best Nigerian Restaurants"
        },
        {
            "cell_type": "markdown",
            "metadata": {},
            "source": "\n\n##  1. Description of the Problem and Discussion of the Background (Introduction Section)\n\n### Prospects of a opening a Nigerian Restaurant in New York, United State.\n\nThis final project explores the best locations for Nigerian restaurants throughout the city of New York. Food Business News stated that worldwide pasta sales were up for the second year in a row with the United Sates holding the largest market (Donley, 2018). New York is a major metropolitan area with more than 8.4 million (Quick Facts, 2018) people living within city limits. Most of the Nigerian immigration into the United States occurred during the late 19th and early 20th century with over two million immigrants between 1900 and 1910. Nigerian families first settled in Little Italy\u2019s neighborhood around Mulberry Street as has continued to thrive ever since. Nigeria account for the largest black immigrants in the United State, with almost 100,000 Manhattan inhabitants reporting Nigerian ancestry, the need to find and enjoy Nigerian cuisine is on the rise. This report explores which neighborhoods and boroughs of New York City have the most as well as the best Nigerian restaurants. Additionally, I will attempt to answer the questions \u201cWhere should I open a Nigerian Restaurant?\u201d and \u201cWhere should I stay If I want great Nigerian food?\u201d\n\n\n### Target Audience\n\nWho will be more interested in this project? What type of clients or a group of people would be benefitted?\n\n1. Business personnel who wants to invest or open a Nigerian restaurant in New York. This analysis will be a comprehensive guide to start or expand restaurants targeting the Nigerian crowd.\n2. Freelancer who loves to have their own restaurant as a side business. This analysis will give an idea, how beneficial it is to open a restaurant and what are the pros and cons of this business.\n3. Nigerian crowd who wants to find neighborhoods with lots of option for Nigerian restaurants.\n4. Business Analyst or Data Scientists, who wish to analyze the neighborhoods of New York using Exploratory Data Analysis and other statistical & machine learning techniques to obtain all the necessary data, perform some operations on it and, finally be able to tell a story out of it.\n\n"
        },
        {
            "cell_type": "markdown",
            "metadata": {},
            "source": "## 2.  Data Acquisition and Methodology\n\n### Data Source\n\nIn order to answer the above questions, data on New York City neighborhoods, boroughs to include boundaries, latitude, longitude, restaurants, and restaurant ratings and tips are required.\n\nNew York City data containing the neighborhoods and boroughs, latitudes, and longitudes will be obtained from the data source: https://cocl.us/new_york_dataset\n\nNew York City data containing neighborhood boundaries will be obtained from the data source: https://data.cityofnewyork.us/City-Government/Borough-Boundaries/tqmj-j8zm\n\nAll data related to locations and quality of Nigerian restaurants will be obtained via the FourSquare API utilized via the Request library in Python.\n\n\n### Methodology\n\n\u2022 Data will be collected from https://cocl.us/new_york_dataset and cleaned and processed into a dataframe.\n\n\u2022 FourSquare be used to locate all venues and then filtered by Nigerian restaurants. Ratings, tips, and likes by users will be counted and added to the dataframe.\n\n\u2022 Data will be sorted based on rankings\n\n\u2022 Finally, the data be will be visually assessed using graphing from various Python libraries."
        },
        {
            "cell_type": "markdown",
            "metadata": {},
            "source": ""
        }
    ],
    "metadata": {
        "kernelspec": {
            "display_name": "Python 3.6",
            "language": "python",
            "name": "python3"
        },
        "language_info": {
            "codemirror_mode": {
                "name": "ipython",
                "version": 3
            },
            "file_extension": ".py",
            "mimetype": "text/x-python",
            "name": "python",
            "nbconvert_exporter": "python",
            "pygments_lexer": "ipython3",
            "version": "3.6.9"
        }
    },
    "nbformat": 4,
    "nbformat_minor": 1
}